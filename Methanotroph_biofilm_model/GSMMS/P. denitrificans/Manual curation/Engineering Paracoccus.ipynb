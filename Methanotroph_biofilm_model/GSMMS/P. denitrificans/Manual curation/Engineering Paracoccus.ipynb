{
 "cells": [
  {
   "cell_type": "markdown",
   "metadata": {},
   "source": [
    "# Load modules and model"
   ]
  },
  {
   "cell_type": "code",
   "execution_count": 1,
   "metadata": {},
   "outputs": [],
   "source": [
    "import cobra.test\n",
    "from cobra.medium import minimal_medium\n",
    "from cobra import Model, Reaction, Metabolite\n",
    "\n",
    "#load the model\n",
    "model = cobra.io.read_sbml_model('Paracoccus_MinimalMedia_exchanges.sbml')"
   ]
  },
  {
   "cell_type": "markdown",
   "metadata": {},
   "source": [
    "# Add sMMO reaction"
   ]
  },
  {
   "cell_type": "code",
   "execution_count": 2,
   "metadata": {},
   "outputs": [],
   "source": [
    "# Add sMMO from Methylococcus Capsulatus & methane uptake in Paracoccus\n",
    "# NADH + O2 + H+ + Methane => H2O + NAD + Methanol\n",
    "# cpd00004 + cpd00007 + cpd00067 + cpd01024 => cpd00001 + cpd00003 + cpd00116\n",
    "rxn00843_c0 = Reaction('rxn00843_c0')\n",
    "rxn00843_c0.name = 'Methane,NADH:oxygen oxidoreductase (hydroxylating) (sMMO)'\n",
    "rxn00843_c0.lower_bound = 0.0\n",
    "rxn00843_c0.upper_bound = 1000.0\n",
    "\n",
    "cpd00004_c0 = model.metabolites.get_by_id('cpd00004_c0')\n",
    "cpd00007_c0 = model.metabolites.get_by_id('cpd00007_c0')\n",
    "cpd00067_c0 = model.metabolites.get_by_id('cpd00067_c0')\n",
    "cpd01024_c0 = Metabolite(\n",
    "    'cpd01024_c0', \n",
    "    formula = 'CH4', \n",
    "    name = 'Methane_c0',\n",
    "    compartment = 'c0')\n",
    "cpd00001_c0 = model.metabolites.get_by_id('cpd00001_c0')\n",
    "cpd00003_c0 = model.metabolites.get_by_id('cpd00003_c0')\n",
    "cpd00116_c0 = model.metabolites.get_by_id('cpd00116_c0')\n",
    "\n",
    "rxn00843_c0.add_metabolites({\n",
    "    cpd00004_c0: -1.0,\n",
    "    cpd00007_c0: -1.0,\n",
    "    cpd00067_c0: -1.0,\n",
    "    cpd01024_c0: -1.0,\n",
    "    cpd00001_c0: 1.0,\n",
    "    cpd00003_c0: 1.0,\n",
    "    cpd00116_c0: 1.0\n",
    "})\n",
    "\n",
    "# Methane transport via diffusion\n",
    "# Methane[1] <=> Methane\n",
    "# cpd01024[1] <=> cpd01024\n",
    "rxn10471_c0 = Reaction('rxn10471_c0')\n",
    "rxn10471_c0.name = 'Methane,NADH:oxygen oxidoreductase (hydroxylating) (sMMO)'\n",
    "rxn10471_c0.lower_bound = -1000.0\n",
    "rxn10471_c0.upper_bound = 1000.0\n",
    "\n",
    "cpd01024_e0 = Metabolite(\n",
    "    'cpd01024_e0', \n",
    "    formula = 'CH4', \n",
    "    name = 'Methane_e0',\n",
    "    compartment = 'e0')\n",
    "\n",
    "rxn10471_c0.add_metabolites({\n",
    "    cpd01024_e0: -1.0,\n",
    "    cpd01024_c0: 1.0\n",
    "})\n",
    "\n",
    "# Methane exhange\n",
    "model.add_boundary(cpd01024_e0, type=\"exchange\", reaction_id=\"EX_cpd01024_e0\", ub=1000.)\n",
    "\n",
    "\n",
    "model.add_reactions([rxn00843_c0, rxn10471_c0])"
   ]
  },
  {
   "cell_type": "code",
   "execution_count": 3,
   "metadata": {},
   "outputs": [],
   "source": [
    "# Change C-source\n",
    "medium = model.medium\n",
    "medium['EX_cpd01024_e0'] = 11.16 # methane > achieve max growth rate of 0.16 https://www.ncbi.nlm.nih.gov/pmc/articles/PMC209051/pdf/jbacter01039-0333.pdf\n",
    "medium['EX_cpd00116_e0'] = 0.0 # methanol\n",
    "medium['EX_cpd00011_e0'] = 0.0 # CO2\n",
    "model.medium = medium"
   ]
  },
  {
   "cell_type": "markdown",
   "metadata": {},
   "source": [
    "# Check and save the model"
   ]
  },
  {
   "cell_type": "code",
   "execution_count": 4,
   "metadata": {},
   "outputs": [
    {
     "data": {
      "text/html": [
       "<strong><em>Optimal</em> solution with objective value 0.160</strong><br><div>\n",
       "<style scoped>\n",
       "    .dataframe tbody tr th:only-of-type {\n",
       "        vertical-align: middle;\n",
       "    }\n",
       "\n",
       "    .dataframe tbody tr th {\n",
       "        vertical-align: top;\n",
       "    }\n",
       "\n",
       "    .dataframe thead th {\n",
       "        text-align: right;\n",
       "    }\n",
       "</style>\n",
       "<table border=\"1\" class=\"dataframe\">\n",
       "  <thead>\n",
       "    <tr style=\"text-align: right;\">\n",
       "      <th></th>\n",
       "      <th>fluxes</th>\n",
       "      <th>reduced_costs</th>\n",
       "    </tr>\n",
       "  </thead>\n",
       "  <tbody>\n",
       "    <tr>\n",
       "      <th>rxn02201_c0</th>\n",
       "      <td>0.00</td>\n",
       "      <td>2.220446e-16</td>\n",
       "    </tr>\n",
       "    <tr>\n",
       "      <th>rxn00351_c0</th>\n",
       "      <td>0.00</td>\n",
       "      <td>-5.773160e-15</td>\n",
       "    </tr>\n",
       "    <tr>\n",
       "      <th>rxn07431_c0</th>\n",
       "      <td>0.00</td>\n",
       "      <td>5.551115e-17</td>\n",
       "    </tr>\n",
       "    <tr>\n",
       "      <th>rxn00390_c0</th>\n",
       "      <td>0.00</td>\n",
       "      <td>0.000000e+00</td>\n",
       "    </tr>\n",
       "    <tr>\n",
       "      <th>rxn08180_c0</th>\n",
       "      <td>0.00</td>\n",
       "      <td>0.000000e+00</td>\n",
       "    </tr>\n",
       "    <tr>\n",
       "      <th>...</th>\n",
       "      <td>...</td>\n",
       "      <td>...</td>\n",
       "    </tr>\n",
       "    <tr>\n",
       "      <th>rxn08461_c0</th>\n",
       "      <td>0.00</td>\n",
       "      <td>-0.000000e+00</td>\n",
       "    </tr>\n",
       "    <tr>\n",
       "      <th>rxn05703_c0</th>\n",
       "      <td>0.00</td>\n",
       "      <td>0.000000e+00</td>\n",
       "    </tr>\n",
       "    <tr>\n",
       "      <th>EX_cpd01024_e0</th>\n",
       "      <td>-11.16</td>\n",
       "      <td>-2.867464e-02</td>\n",
       "    </tr>\n",
       "    <tr>\n",
       "      <th>rxn00843_c0</th>\n",
       "      <td>11.16</td>\n",
       "      <td>2.220446e-16</td>\n",
       "    </tr>\n",
       "    <tr>\n",
       "      <th>rxn10471_c0</th>\n",
       "      <td>11.16</td>\n",
       "      <td>0.000000e+00</td>\n",
       "    </tr>\n",
       "  </tbody>\n",
       "</table>\n",
       "<p>1491 rows × 2 columns</p>\n",
       "</div>"
      ],
      "text/plain": [
       "<Solution 0.160 at 0x216d54bf070>"
      ]
     },
     "execution_count": 4,
     "metadata": {},
     "output_type": "execute_result"
    }
   ],
   "source": [
    "# Run to check with FBA if the reactions work\n",
    "model.optimize()"
   ]
  },
  {
   "cell_type": "code",
   "execution_count": 5,
   "metadata": {},
   "outputs": [],
   "source": [
    "# Save the engineered model >> set save value to True\n",
    "save = False\n",
    "\n",
    "if save == True:\n",
    "    cobra.io.write_sbml_model(model, \"Paracoccus_MinimalMedia_sMMO.sbml\")"
   ]
  },
  {
   "cell_type": "code",
   "execution_count": null,
   "metadata": {},
   "outputs": [],
   "source": []
  }
 ],
 "metadata": {
  "kernelspec": {
   "display_name": "Python 3",
   "language": "python",
   "name": "python3"
  },
  "language_info": {
   "codemirror_mode": {
    "name": "ipython",
    "version": 3
   },
   "file_extension": ".py",
   "mimetype": "text/x-python",
   "name": "python",
   "nbconvert_exporter": "python",
   "pygments_lexer": "ipython3",
   "version": "3.8.3"
  }
 },
 "nbformat": 4,
 "nbformat_minor": 4
}
